{
  "nbformat": 4,
  "nbformat_minor": 0,
  "metadata": {
    "colab": {
      "name": "10-pattern-matching.ipynb",
      "provenance": [],
      "collapsed_sections": []
    },
    "kernelspec": {
      "name": "python3",
      "display_name": "Python 3"
    },
    "language_info": {
      "name": "python"
    }
  },
  "cells": [
    {
      "cell_type": "code",
      "source": [
        "import itertools, string\n",
        "\n",
        "Q = 7841\n",
        "R = 27"
      ],
      "metadata": {
        "id": "aSM8vnr32qwh"
      },
      "execution_count": 2,
      "outputs": []
    },
    {
      "cell_type": "code",
      "source": [
        "def check_string(s1, s2):\n",
        "  iterations = 0\n",
        "  instructions = 0\n",
        "  position = -1\n",
        "  for i in range(len(s1)-len(s2)+1):#4\n",
        "    iterations = iterations +1\n",
        "    instructions = instructions + 4 * (len(s1)-len(s2))\n",
        "\n",
        "    if s1[i: i + len(s2)] == s2:# 4 * (len(s1)-len(s2))\n",
        "      \n",
        "      position = i #1\n",
        "      instructions = instructions +1\n",
        "      break\n",
        "  \n",
        "  print(f'iterations:{iterations}, operations:{instructions}')\n",
        "\n",
        "  return position"
      ],
      "metadata": {
        "id": "pB3iXyfn2qtp"
      },
      "execution_count": 3,
      "outputs": []
    },
    {
      "cell_type": "code",
      "source": [
        ""
      ],
      "metadata": {
        "id": "406wqouH2qqp"
      },
      "execution_count": null,
      "outputs": []
    },
    {
      "cell_type": "code",
      "source": [
        "s1 = 'ABCDCBDCBDACSDFHSJKDFGCYAYUWQ951IUEDNNDJQBACBFQUIQEUIQBVVHOIWAÇGJSOAHVILSAGVOSJKDFHSDFUHUDWUIERPQOPQURQAFJJAKDNM,ZXBMBAJBKSDFALSDFJPEPWQRUIOQERYQUORYUIQFHJKADBFHJGASDTATEAQFQCACXBSD,FWLFPOWEUIOWEYRUIWERWDFBKSDFGUIWETFYUGSDJVCSJDGFYSWTFEYUJDJKSDFHUKSDFYUWEUIFHSDHFIOWOFURWEIORY8923659472R8UWEIOFYU8943Y92URHIFO0WQUOQ219UQWIOJALFNAJSVNOBU098RU530YTUHWFV79WQ7RE829BDABDCBADF'\n",
        "s2 = 'ADF'\n",
        "\n",
        "check_string(s1, s2)"
      ],
      "metadata": {
        "colab": {
          "base_uri": "https://localhost:8080/"
        },
        "id": "ZmbvCkSO2qhi",
        "outputId": "0ff645d5-d1f9-46a0-eb55-d9819c0a67b5"
      },
      "execution_count": 4,
      "outputs": [
        {
          "output_type": "stream",
          "name": "stdout",
          "text": [
            "iterations:369, operations:543169\n"
          ]
        },
        {
          "output_type": "execute_result",
          "data": {
            "text/plain": [
              "368"
            ]
          },
          "metadata": {},
          "execution_count": 4
        }
      ]
    },
    {
      "cell_type": "code",
      "source": [
        ""
      ],
      "metadata": {
        "id": "eENKBd5mL_xG"
      },
      "execution_count": null,
      "outputs": []
    },
    {
      "cell_type": "code",
      "source": [
        "def search(pat, txt):\n",
        "\n",
        "  M = len(pat) #1\n",
        "  N = len(txt) #1\n",
        "  patHash = hash(pat, M) #1 + 2+(M-1)*8 \n",
        "  pos = N #1\n",
        "\n",
        "  operations = 3 + (M-1) * 8\n",
        "  for i in range((N - M) + 1): #N-M +1\n",
        "    txtHash = hash(txt[i: i + M], M) #1 + 2+(M-1)*8\n",
        "    #print('comparing', txt[i: i + M], patHash, txtHash)\n",
        "    if patHash == txtHash: #1\n",
        "      pos = i #1\n",
        "      operations = operations +1\n",
        "\n",
        "    operations = operations + (2 + 2+(M-1)*8)\n",
        "\n",
        "  print(f'operations: {operations}')\n",
        "  return pos"
      ],
      "metadata": {
        "id": "uQRE_-1A95c7"
      },
      "execution_count": 17,
      "outputs": []
    },
    {
      "cell_type": "code",
      "source": [
        "def hash(s, M):\n",
        "  h = 0 #1\n",
        "  j = 0 #1\n",
        "  while j < M: #M-1\n",
        "    h = (h * R + ord(s[j])) % Q #6\n",
        "    j = j+1 #2\n",
        "  #2 + (M-1) * 8 \n",
        "  return h"
      ],
      "metadata": {
        "id": "mfpQZerY_CaC"
      },
      "execution_count": 6,
      "outputs": []
    },
    {
      "cell_type": "code",
      "source": [
        "s1 = 'ABCDCBDCBDACBDABDCBADF'\n",
        "s2 = 'ADF'\n",
        "\n",
        "search(s2, s1)"
      ],
      "metadata": {
        "colab": {
          "base_uri": "https://localhost:8080/"
        },
        "id": "D9feSZMK95X6",
        "outputId": "b06b1abc-86c7-470c-8a8b-1cc04e4dd7df"
      },
      "execution_count": 18,
      "outputs": [
        {
          "output_type": "stream",
          "name": "stdout",
          "text": [
            "operations: 420\n"
          ]
        },
        {
          "output_type": "execute_result",
          "data": {
            "text/plain": [
              "19"
            ]
          },
          "metadata": {},
          "execution_count": 18
        }
      ]
    },
    {
      "cell_type": "code",
      "source": [
        ""
      ],
      "metadata": {
        "id": "mrhC9R4YRPt0"
      },
      "execution_count": 10,
      "outputs": []
    }
  ]
}