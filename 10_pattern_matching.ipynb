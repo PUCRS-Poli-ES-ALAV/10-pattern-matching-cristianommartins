{
  "nbformat": 4,
  "nbformat_minor": 0,
  "metadata": {
    "colab": {
      "name": "10-pattern-matching.ipynb",
      "provenance": [],
      "collapsed_sections": []
    },
    "kernelspec": {
      "name": "python3",
      "display_name": "Python 3"
    },
    "language_info": {
      "name": "python"
    }
  },
  "cells": [
    {
      "cell_type": "code",
      "source": [
        "import itertools, string\n",
        "\n",
        "Q = 7841\n",
        "R = 27"
      ],
      "metadata": {
        "id": "aSM8vnr32qwh"
      },
      "execution_count": 2,
      "outputs": []
    },
    {
      "cell_type": "code",
      "source": [
        "def check_string(s1, s2):\n",
        "  iterations = 0\n",
        "  instructions = 0\n",
        "  position = -1\n",
        "  for i in range(len(s1)-len(s2)+1):#4\n",
        "    iterations = iterations +1\n",
        "    instructions = instructions + 4 * (len(s1)-len(s2))\n",
        "\n",
        "    if s1[i: i + len(s2)] == s2:# 4 * (len(s1)-len(s2))\n",
        "      \n",
        "      position = i #1\n",
        "      instructions = instructions +1\n",
        "      break\n",
        "  \n",
        "  print(f'iterations:{iterations}, operations:{instructions}')\n",
        "\n",
        "  return position"
      ],
      "metadata": {
        "id": "pB3iXyfn2qtp"
      },
      "execution_count": 3,
      "outputs": []
    },
    {
      "cell_type": "code",
      "source": [
        ""
      ],
      "metadata": {
        "id": "406wqouH2qqp"
      },
      "execution_count": null,
      "outputs": []
    },
    {
      "cell_type": "code",
      "source": [
        "s1 = 'ABCDCBDCBDACSDFHSJKDFGCYAYUWQ951IUEDNNDJQBACBFQUIQEUIQBVVHOIWAÇGJSOAHVILSAGVOSJKDFHSDFUHUDWUIERPQOPQURQAFJJAKDNM,ZXBMBAJBKSDFALSDFJPEPWQRUIOQERYQUORYUIQFHJKADBFHJGASDTATEAQFQCACXBSD,FWLFPOWEUIOWEYRUIWERWDFBKSDFGUIWETFYUGSDJVCSJDGFYSWTFEYUJDJKSDFHUKSDFYUWEUIFHSDHFIOWOFURWEIORY8923659472R8UWEIOFYU8943Y92URHIFO0WQUOQ219UQWIOJALFNAJSVNOBU098RU530YTUHWFV79WQ7RE829BDABDCBADF'\n",
        "s2 = 'ADF'\n",
        "\n",
        "check_string(s1, s2)"
      ],
      "metadata": {
        "colab": {
          "base_uri": "https://localhost:8080/"
        },
        "id": "ZmbvCkSO2qhi",
        "outputId": "0ff645d5-d1f9-46a0-eb55-d9819c0a67b5"
      },
      "execution_count": 4,
      "outputs": [
        {
          "output_type": "stream",
          "name": "stdout",
          "text": [
            "iterations:369, operations:543169\n"
          ]
        },
        {
          "output_type": "execute_result",
          "data": {
            "text/plain": [
              "368"
            ]
          },
          "metadata": {},
          "execution_count": 4
        }
      ]
    },
    {
      "cell_type": "code",
      "source": [
        ""
      ],
      "metadata": {
        "id": "eENKBd5mL_xG"
      },
      "execution_count": null,
      "outputs": []
    },
    {
      "cell_type": "code",
      "source": [
        "def search(pat, txt):\n",
        "  M = len(pat)\n",
        "  N = len(txt)\n",
        "  patHash = hash(pat, M)\n",
        "\n",
        "  pos = N\n",
        "  for i in range((N - M) + 1):\n",
        "    txtHash = hash(txt[i: i + M], M)\n",
        "    #print('comparing', txt[i: i + M], patHash, txtHash)\n",
        "    if patHash == txtHash:\n",
        "      pos = i\n",
        "  \n",
        "  return pos"
      ],
      "metadata": {
        "id": "uQRE_-1A95c7"
      },
      "execution_count": 5,
      "outputs": []
    },
    {
      "cell_type": "code",
      "source": [
        "def hash(s, M):\n",
        "  h = 0\n",
        "  j = 0\n",
        "  while j < M:\n",
        "    h = (h * R + ord(s[j])) % Q\n",
        "    j = j+1\n",
        "  \n",
        "  return h"
      ],
      "metadata": {
        "id": "mfpQZerY_CaC"
      },
      "execution_count": 6,
      "outputs": []
    },
    {
      "cell_type": "code",
      "source": [
        "s1 = 'ABCDCBDCBDACBDABDCBADF'\n",
        "s2 = 'ADF'\n",
        "\n",
        "search(s2, s1)"
      ],
      "metadata": {
        "colab": {
          "base_uri": "https://localhost:8080/"
        },
        "id": "D9feSZMK95X6",
        "outputId": "47e63a34-fff9-4774-e6df-6a0862fd1868"
      },
      "execution_count": 7,
      "outputs": [
        {
          "output_type": "execute_result",
          "data": {
            "text/plain": [
              "19"
            ]
          },
          "metadata": {},
          "execution_count": 7
        }
      ]
    },
    {
      "cell_type": "code",
      "source": [
        ""
      ],
      "metadata": {
        "id": "mrhC9R4YRPt0"
      },
      "execution_count": 10,
      "outputs": []
    }
  ]
}